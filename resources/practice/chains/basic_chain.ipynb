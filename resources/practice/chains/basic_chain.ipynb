{
 "cells": [
  {
   "cell_type": "code",
   "execution_count": 1,
   "metadata": {},
   "outputs": [],
   "source": [
    "from dotenv import load_dotenv\n",
    "from langchain.prompts import ChatPromptTemplate\n",
    "from langchain.schema.output_parser import StrOutputParser\n",
    "from langchain_ollama import ChatOllama\n",
    "\n"
   ]
  },
  {
   "cell_type": "code",
   "execution_count": 2,
   "metadata": {},
   "outputs": [
    {
     "data": {
      "text/plain": [
       "True"
      ]
     },
     "execution_count": 2,
     "metadata": {},
     "output_type": "execute_result"
    }
   ],
   "source": [
    "load_dotenv()\n"
   ]
  },
  {
   "cell_type": "code",
   "execution_count": 3,
   "metadata": {},
   "outputs": [],
   "source": [
    "model = ChatOllama(model=\"llama3.2\")"
   ]
  },
  {
   "cell_type": "code",
   "execution_count": 4,
   "metadata": {},
   "outputs": [
    {
     "name": "stdout",
     "output_type": "stream",
     "text": [
      "Here are 20 jokes about software developers for you:\n",
      "\n",
      "1. Why did the developer quit his job? He didn't get arrays.\n",
      "2. I asked my developer friend why he loved coding. He said, \"Because it's like building with Legos, but without the fun.\"\n",
      "3. What do you call a developer who doesn't know Java or C++? A beginner... just kidding!\n",
      "4. Why did the bug go to therapy? It had a lot of issues.\n",
      "5. I tried to explain recursion to my grandma, but she just didn't get it. Now I'm stuck with a family that can't understand code.\n",
      "6. What's a developer's favorite color? Blue (because of all the debugging they do).\n",
      "7. Why do developers love coffee? Because it's the only thing that can keep up with their sleep deprivation.\n",
      "8. My friend is a master of debugging. He can find an error in 5 lines of code, but can't string three sentences together without a typo.\n",
      "9. What did the database say to the query? \"You're always asking for me.\"\n",
      "10. Why do developers love their desks? They're the only place where they feel like adults with a computer.\n",
      "11. I asked my developer friend why he was so good at coding. He said, \"Because I'm really good at reading between lines... of code.\"\n",
      "12. What's a developer's favorite exercise? Debugging... just kidding!\n",
      "13. Why do developers love GitHub? It's where they can host all their unfinished projects.\n",
      "14. My friend is trying to learn to code. He says it's like learning to ride a bike... no, wait, that's not true at all.\n",
      "15. What did the AI say to the developer? \"You're always asking me questions.\"\n",
      "16. Why do developers hate meetings? Because they're the only place where you can find a room full of people who don't know how to use Google.\n",
      "17. My friend is a developer and loves his job... but hates his boss. I asked him why. He said, \"Because my boss is always pushing me to optimize.\"\n",
      "18. What's a developer's favorite food? Code... just kidding! Ramen noodles.\n",
      "19. Why do developers love their keyboards? They're the only place where they can type without anyone judging them.\n",
      "20. My friend is trying to start his own tech company. He says it's like starting a restaurant, but instead of cooking, he's just trying not to break everything.\n",
      "\n",
      "I hope you found these jokes funny!\n"
     ]
    }
   ],
   "source": [
    "prompt_template = ChatPromptTemplate.from_messages(\n",
    "    [\n",
    "        (\"system\", \"You are a comedian who tells jokes about {topic}.\"),\n",
    "        (\"human\", \"Tell me {joke_count} jokes.\"),\n",
    "    ]\n",
    ")\n",
    "\n",
    "# Create the combined chain using LangChain Expression Language (LCEL)\n",
    "chain = prompt_template | model | StrOutputParser()\n",
    "\n",
    "# Run the chain\n",
    "result = chain.invoke({\"topic\": \"software developers\", \"joke_count\": 20})\n",
    "\n",
    "print(result)"
   ]
  },
  {
   "cell_type": "code",
   "execution_count": null,
   "metadata": {},
   "outputs": [],
   "source": []
  }
 ],
 "metadata": {
  "kernelspec": {
   "display_name": "Python 3",
   "language": "python",
   "name": "python3"
  },
  "language_info": {
   "codemirror_mode": {
    "name": "ipython",
    "version": 3
   },
   "file_extension": ".py",
   "mimetype": "text/x-python",
   "name": "python",
   "nbconvert_exporter": "python",
   "pygments_lexer": "ipython3",
   "version": "3.12.6"
  }
 },
 "nbformat": 4,
 "nbformat_minor": 2
}
