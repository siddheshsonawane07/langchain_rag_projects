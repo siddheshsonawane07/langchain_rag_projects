{
 "cells": [
  {
   "cell_type": "code",
   "execution_count": 1,
   "id": "3df28293-f828-4eb3-b8ec-7dbe825df949",
   "metadata": {},
   "outputs": [],
   "source": [
    "from dotenv import load_dotenv\n",
    "import os"
   ]
  },
  {
   "cell_type": "code",
   "execution_count": 2,
   "id": "b3a1c35a-428f-47b7-9f03-355049fccf7a",
   "metadata": {},
   "outputs": [
    {
     "data": {
      "text/plain": [
       "True"
      ]
     },
     "execution_count": 2,
     "metadata": {},
     "output_type": "execute_result"
    }
   ],
   "source": [
    "load_dotenv()\n"
   ]
  },
  {
   "cell_type": "code",
   "execution_count": 3,
   "id": "0c7d9041-4805-4fc1-a3e9-b721e7a88eb6",
   "metadata": {},
   "outputs": [],
   "source": [
    "from langchain_mistralai import ChatMistralAI\n",
    "\n",
    "model = ChatMistralAI(model=\"mistral-large-latest\")"
   ]
  },
  {
   "cell_type": "code",
   "execution_count": 4,
   "id": "0f6bb981-0635-4535-bedf-3f517140d605",
   "metadata": {},
   "outputs": [
    {
     "data": {
      "text/plain": [
       "'नमस्कार, माझे नाव सिद्धेश सोनावणे आहे.\\n\\n(Namaskār, mājhe nāv Siddhesh Sōnāvaṇe āhe.)'"
      ]
     },
     "execution_count": 4,
     "metadata": {},
     "output_type": "execute_result"
    }
   ],
   "source": [
    "from langchain_core.messages import HumanMessage, SystemMessage\n",
    "from langchain_core.output_parsers import StrOutputParser\n",
    "\n",
    "messages = [\n",
    "    # A SystemMessage is used to provide the system or model with instructions, guidelines, or context on how to behave during a conversation.\n",
    "    SystemMessage(content=\"Translate the following from English into Marathi\"),\n",
    "\n",
    "    # It contains the actual content that the user inputs, such as questions, requests, or other human-provided text.\n",
    "    HumanMessage(content=\"Hello there, My name is Siddhesh Sonawane \"),\n",
    "]\n",
    "\n",
    "\n",
    "result = model.invoke(messages)\n",
    "\n",
    "# parser used for filtering out result from the response.\n",
    "parser = StrOutputParser()\n",
    "\n",
    "parser.invoke(result)"
   ]
  },
  {
   "cell_type": "code",
   "execution_count": 5,
   "id": "76b89d5d-2b59-4034-8171-296fd05c46b0",
   "metadata": {},
   "outputs": [
    {
     "data": {
      "text/plain": [
       "'नमस्कार, माझे नाव सिद्धेश सोनवणे आहे.'"
      ]
     },
     "execution_count": 5,
     "metadata": {},
     "output_type": "execute_result"
    }
   ],
   "source": [
    "# We can easily create the chain using the | operator. The | operator is used in LangChain to combine two elements together.\n",
    "chain = model | parser\n",
    "\n",
    "chain.invoke(messages)"
   ]
  },
  {
   "cell_type": "markdown",
   "id": "8b026e30-6991-400e-a6d2-a67b4011bd8d",
   "metadata": {},
   "source": [
    "PromptTemplates are a concept in LangChain designed to assist with  transformation. They take in raw user input and return data (a prompt) that is ready to pass into a language model.\n",
    "\n",
    "Let's create a PromptTemplate here. It will take in two user variables:\n",
    "<br>language: The language to translate text into\n",
    "<br>text: The text to translate"
   ]
  },
  {
   "cell_type": "code",
   "execution_count": 6,
   "id": "c987c2d9-17a5-4772-8e1c-365f59ec0385",
   "metadata": {},
   "outputs": [],
   "source": [
    "from langchain_core.prompts import ChatPromptTemplate\n",
    "\n"
   ]
  },
  {
   "cell_type": "code",
   "execution_count": 7,
   "id": "7d9ee3f4-55db-4522-a453-93745d2746a5",
   "metadata": {},
   "outputs": [],
   "source": [
    "system_template = \"Answer the following into {language}:\"\n",
    "\n",
    "prompt_template = ChatPromptTemplate.from_messages(\n",
    "    [(\"system\", system_template), (\"user\", \"{text}\")]\n",
    ")"
   ]
  },
  {
   "cell_type": "markdown",
   "id": "f1fc970d-c327-45f9-bf34-d3ab9282e39d",
   "metadata": {},
   "source": [
    "The input to this prompt template is a dictionary. We can play around with this prompt template by itself to see what it does by itself"
   ]
  },
  {
   "cell_type": "code",
   "execution_count": 8,
   "id": "7d2d5212-cace-4297-b9d3-efcea9af0a9c",
   "metadata": {},
   "outputs": [],
   "source": [
    "# result = prompt_template.invoke({\"language\": \"Marathi\", \"text\": \"Priyanka\"})\n",
    "\n",
    "# # result\n",
    "# result.to_messages()\n"
   ]
  },
  {
   "cell_type": "code",
   "execution_count": 11,
   "id": "b41b6d73-702b-4a4e-b984-58db08294a5b",
   "metadata": {},
   "outputs": [],
   "source": [
    "chain = prompt_template | model | parser"
   ]
  },
  {
   "cell_type": "code",
   "execution_count": 12,
   "id": "750e132f-26fe-4444-b255-ac8bea57fa00",
   "metadata": {},
   "outputs": [
    {
     "data": {
      "text/plain": [
       "'डेटाबेस सिस्टम म्हणजे डेटा व्यवस्थापन आणि प्रबंधन करण्यासाठी वापरल्या जाणाऱ्या सॉफ्टवेअर आणि हार्डवेअरचे संयोजन आहे. या सिस्टममध्ये डेटाबेस, डेटाबेस मॅनेजमेंट सिस्टम (DBMS), आणि वापरकर्त्यांची अनुप्रयोगे यांचा समावेश होतो.\\n\\n1. **डेटाबेस**: ही डेटाची संग्रहित आणि सुसंगत रीतीने व्यवस्थापित केलेली संरचना आहे. डेटा टेबल्स, रेकॉर्ड्स, आणि फील्ड्समध्ये संग्रहित केले जाते.\\n\\n2. **डेटाबेस मॅनेजमेंट सिस्टम (DBMS)**: हे सॉफ्टवेअर आहे जे डेटाबेसचे व्यवस्थापन करते. DBMS डेटाची निर्मिती, संपादन, शोध, आणि विलगीकरण यांची कार्ये करते. यामध्ये सुरक्षा, बॅकअप, आणि पुनर्स्थापना यांचा समावेश होतो.\\n\\n3. **वापरकर्त्यांची अनुप्रयोगे**: डेटाबेस सिस्टमवर वापरकर्ते डेटाला प्रवेश करण्यासाठी आणि ते वापरण्यासाठी अनुप्रयोगे वापरतात. यामध्ये वेब अनुप्रयोगे, मोबाइल अनुप्रयोगे, आणि डेस्कटॉप अनुप्रयोगे यांचा समावेश होऊ शकतो.\\n\\nडेटाबेस सिस्टम विविध प्रकारच्या डेटाचे व्यवस्थापन करतात, जसे की टेक्स्ट, आकडे, इमेजेस, आणि व्हिडिओ. याचा उपयोग व्यवसाय, शैक्षणिक संस्था, सरकारी संस्था, आणि अनेक इतर क्षेत्रांमध्ये होतो.'"
      ]
     },
     "execution_count": 12,
     "metadata": {},
     "output_type": "execute_result"
    }
   ],
   "source": [
    "chain.invoke({\"language\": \"Marathi\", \"text\": \"Explain database management system\"})\n",
    "\n"
   ]
  },
  {
   "cell_type": "code",
   "execution_count": null,
   "id": "5f0057ba-9345-4458-8177-4f56e66c83c0",
   "metadata": {},
   "outputs": [],
   "source": []
  }
 ],
 "metadata": {
  "kernelspec": {
   "display_name": "Python 3 (ipykernel)",
   "language": "python",
   "name": "python3"
  },
  "language_info": {
   "codemirror_mode": {
    "name": "ipython",
    "version": 3
   },
   "file_extension": ".py",
   "mimetype": "text/x-python",
   "name": "python",
   "nbconvert_exporter": "python",
   "pygments_lexer": "ipython3",
   "version": "3.12.6"
  }
 },
 "nbformat": 4,
 "nbformat_minor": 5
}
