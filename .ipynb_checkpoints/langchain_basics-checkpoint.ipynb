{
 "cells": [
  {
   "cell_type": "code",
   "execution_count": 1,
   "id": "3df28293-f828-4eb3-b8ec-7dbe825df949",
   "metadata": {},
   "outputs": [],
   "source": [
    "from dotenv import load_dotenv\n",
    "import os"
   ]
  },
  {
   "cell_type": "code",
   "execution_count": 2,
   "id": "b3a1c35a-428f-47b7-9f03-355049fccf7a",
   "metadata": {},
   "outputs": [
    {
     "data": {
      "text/plain": [
       "True"
      ]
     },
     "execution_count": 2,
     "metadata": {},
     "output_type": "execute_result"
    }
   ],
   "source": [
    "load_dotenv()\n"
   ]
  },
  {
   "cell_type": "code",
   "execution_count": 3,
   "id": "0c7d9041-4805-4fc1-a3e9-b721e7a88eb6",
   "metadata": {},
   "outputs": [],
   "source": [
    "from langchain_mistralai import ChatMistralAI\n",
    "\n",
    "model = ChatMistralAI(model=\"mistral-large-latest\")"
   ]
  },
  {
   "cell_type": "code",
   "execution_count": 4,
   "id": "0f6bb981-0635-4535-bedf-3f517140d605",
   "metadata": {},
   "outputs": [
    {
     "data": {
      "text/plain": [
       "'नमस्कार, माझे नाव सिद्धेश सोनवणे आहे.'"
      ]
     },
     "execution_count": 4,
     "metadata": {},
     "output_type": "execute_result"
    }
   ],
   "source": [
    "from langchain_core.messages import HumanMessage, SystemMessage\n",
    "from langchain_core.output_parsers import StrOutputParser\n",
    "\n",
    "messages = [\n",
    "    # A SystemMessage is used to provide the system or model with instructions, guidelines, or context on how to behave during a conversation.\n",
    "    SystemMessage(content=\"Translate the following from English into Marathi\"),\n",
    "\n",
    "    # It contains the actual content that the user inputs, such as questions, requests, or other human-provided text.\n",
    "    HumanMessage(content=\"Hello there, My name is Siddhesh Sonawane \"),\n",
    "]\n",
    "\n",
    "\n",
    "result = model.invoke(messages)\n",
    "\n",
    "# parser used for filtering out result from the response.\n",
    "parser = StrOutputParser()\n",
    "\n",
    "parser.invoke(result)"
   ]
  },
  {
   "cell_type": "code",
   "execution_count": null,
   "id": "76b89d5d-2b59-4034-8171-296fd05c46b0",
   "metadata": {},
   "outputs": [],
   "source": [
    "# We can easily create the chain using the | operator. The | operator is used in LangChain to combine two elements together.\n",
    "chain = model | parser\n",
    "\n",
    "chain.invoke(messages)"
   ]
  },
  {
   "cell_type": "markdown",
   "id": "8b026e30-6991-400e-a6d2-a67b4011bd8d",
   "metadata": {},
   "source": [
    "PromptTemplates are a concept in LangChain designed to assist with  transformation. They take in raw user input and return data (a prompt) that is ready to pass into a language model.\n",
    "\n",
    "Let's create a PromptTemplate here. It will take in two user variables:\n",
    "<br>language: The language to translate text into\n",
    "<br>text: The text to translate"
   ]
  },
  {
   "cell_type": "code",
   "execution_count": null,
   "id": "c987c2d9-17a5-4772-8e1c-365f59ec0385",
   "metadata": {},
   "outputs": [],
   "source": []
  }
 ],
 "metadata": {
  "kernelspec": {
   "display_name": "Python 3 (ipykernel)",
   "language": "python",
   "name": "python3"
  },
  "language_info": {
   "codemirror_mode": {
    "name": "ipython",
    "version": 3
   },
   "file_extension": ".py",
   "mimetype": "text/x-python",
   "name": "python",
   "nbconvert_exporter": "python",
   "pygments_lexer": "ipython3",
   "version": "3.12.6"
  }
 },
 "nbformat": 4,
 "nbformat_minor": 5
}
