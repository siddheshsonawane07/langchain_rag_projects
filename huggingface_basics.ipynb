{
 "cells": [
  {
   "cell_type": "code",
   "execution_count": 11,
   "id": "24eb9094-fa59-40b5-8d01-85b3709a5fa7",
   "metadata": {},
   "outputs": [
    {
     "name": "stderr",
     "output_type": "stream",
     "text": [
      "No model was supplied, defaulted to distilbert/distilbert-base-uncased-finetuned-sst-2-english and revision 714eb0f (https://huggingface.co/distilbert/distilbert-base-uncased-finetuned-sst-2-english).\n",
      "Using a pipeline without specifying a model name and revision in production is not recommended.\n"
     ]
    },
    {
     "data": {
      "text/plain": [
       "[{'label': 'POSITIVE', 'score': 0.9598049521446228},\n",
       " {'label': 'NEGATIVE', 'score': 0.9994558691978455}]"
      ]
     },
     "execution_count": 11,
     "metadata": {},
     "output_type": "execute_result"
    }
   ],
   "source": [
    "from transformers import pipeline # type: ignore\n",
    "\n",
    "classifier = pipeline(\"sentiment-analysis\")\n",
    "classifier(\n",
    "    [\"I've been waiting for a HuggingFace course my whole life.\", \"I hate this so much!\"]\n",
    ")"
   ]
  },
  {
   "cell_type": "code",
   "execution_count": 4,
   "id": "3842abbe-2cea-402a-b120-fbc39a8103cf",
   "metadata": {},
   "outputs": [],
   "source": [
    "# not doing this, because the model needs to be downloaded & is too heavy,\n",
    "\n",
    "# classifier = pipeline(\"zero-shot-classification\")\n",
    "# classifier(\n",
    "#     \"This is a course about the Transformers library\",\n",
    "#     candidate_labels=[\"education\", \"politics\", \"business\"],\n",
    "# )\n",
    "\n",
    "# following should be the output for above code\n",
    "    \n",
    "# {'sequence': 'This is a course about the Transformers library',\n",
    "#  'labels': ['education', 'business', 'politics'],\n",
    "#  'scores': [0.8445963859558105, 0.111976258456707, 0.043427448719739914]}"
   ]
  },
  {
   "cell_type": "markdown",
   "id": "7173aa0b",
   "metadata": {},
   "source": [
    "refer to this page for more models\n",
    "https://huggingface.co/learn/nlp-course/chapter1/3?fw=pt"
   ]
  }
 ],
 "metadata": {
  "kernelspec": {
   "display_name": "Python 3 (ipykernel)",
   "language": "python",
   "name": "python3"
  },
  "language_info": {
   "codemirror_mode": {
    "name": "ipython",
    "version": 3
   },
   "file_extension": ".py",
   "mimetype": "text/x-python",
   "name": "python",
   "nbconvert_exporter": "python",
   "pygments_lexer": "ipython3",
   "version": "3.12.6"
  }
 },
 "nbformat": 4,
 "nbformat_minor": 5
}
