{
 "cells": [
  {
   "cell_type": "markdown",
   "id": "02afdcb2-a27e-4a23-a946-b012bb293790",
   "metadata": {},
   "source": [
    "<h1>different loaders for loading data</h1>"
   ]
  },
  {
   "cell_type": "code",
   "execution_count": 2,
   "id": "9646e0d1-887f-4f2a-a48a-6a64c039e879",
   "metadata": {},
   "outputs": [
    {
     "data": {
      "text/plain": [
       "True"
      ]
     },
     "execution_count": 2,
     "metadata": {},
     "output_type": "execute_result"
    }
   ],
   "source": [
    "from langchain.document_loaders import TextLoader\n",
    "from dotenv import load_dotenv\n",
    "load_dotenv()\n"
   ]
  },
  {
   "cell_type": "code",
   "execution_count": 3,
   "id": "fe0389d8-32c3-4dac-9e71-d239e3945def",
   "metadata": {},
   "outputs": [],
   "source": [
    "text_loader = TextLoader(\"conversational_RAG_theory.txt\");\n",
    "\n",
    "data = text_loader.load()"
   ]
  },
  {
   "cell_type": "code",
   "execution_count": 4,
   "id": "cf94612a-9d88-48b7-a54a-493f311063d6",
   "metadata": {},
   "outputs": [],
   "source": [
    "# print(data[0].metadata)\n",
    "# print(data[0])"
   ]
  },
  {
   "cell_type": "code",
   "execution_count": 5,
   "id": "6d840277-62ec-4ab7-a21b-e9fc8afc5a37",
   "metadata": {},
   "outputs": [],
   "source": [
    "from langchain_community.document_loaders import PyPDFLoader\n"
   ]
  },
  {
   "cell_type": "code",
   "execution_count": 6,
   "id": "d038e7a2-66e5-4c1f-a3e2-3662ef1f02d2",
   "metadata": {},
   "outputs": [],
   "source": [
    "loader = PyPDFLoader(\"2024_Siddhesh_7447664132.pdf\")\n",
    "pages = []\n",
    "async for page in loader.alazy_load():\n",
    "    pages.append(page)\n",
    "\n",
    "\n",
    "resume_data = pages"
   ]
  },
  {
   "cell_type": "code",
   "execution_count": 7,
   "id": "1c5693fe-dc77-4037-9496-2643e6e58333",
   "metadata": {},
   "outputs": [],
   "source": [
    "# print(pages[0])\n",
    "# print(pages[1])\n",
    "# print(f\"{pages[0].metadata}\\n\")\n",
    "# print(pages[0].page_content)"
   ]
  },
  {
   "cell_type": "code",
   "execution_count": 8,
   "id": "40d9cf8a-6552-4671-bd28-7f743195a3c0",
   "metadata": {},
   "outputs": [],
   "source": [
    "from langchain_community.document_loaders import UnstructuredURLLoader\n"
   ]
  },
  {
   "cell_type": "code",
   "execution_count": null,
   "id": "ec7285af-45c3-42ce-a2ac-cf1028a0dff7",
   "metadata": {},
   "outputs": [],
   "source": [
    "# urls = [\n",
    "#     \"https://www.moneycontrol.com/news/telecom/vodafone-idea-bets-big-on-gaming-content-to-widen-4g-subscriber-base-12832202.html\",\n",
    "#     \"https://www.moneycontrol.com/news/business/moneycontrol-research/craftsman-automation-significant-headroom-to-grow-valuation-at-fair-level-12832073.html\",\n",
    "# ]\n",
    "# loader = UnstructuredURLLoader(urls=urls)\n",
    "\n",
    "# url_data = loader.load()\n",
    "\n",
    "# len(data)"
   ]
  },
  {
   "cell_type": "code",
   "execution_count": 23,
   "id": "54054b9c-b7ba-481a-b446-cd8bb5cde533",
   "metadata": {},
   "outputs": [],
   "source": [
    "# url_data[0].metadata"
   ]
  },
  {
   "cell_type": "code",
   "execution_count": 24,
   "id": "e49c5591-c76b-4fc1-b4e8-d2f372cb40c5",
   "metadata": {},
   "outputs": [],
   "source": [
    "# url_data[1].metadata"
   ]
  },
  {
   "cell_type": "markdown",
   "id": "21532744-14a6-4b54-9f84-a0602aeb4813",
   "metadata": {},
   "source": [
    "<h1>using different techniques for text splitter</h1>"
   ]
  },
  {
   "cell_type": "code",
   "execution_count": 12,
   "id": "7a052f15-4a1f-4f10-9c27-3c1e2d3d08a0",
   "metadata": {},
   "outputs": [],
   "source": [
    "# from langchain.text_splitter import CharacterTextSplitter\n",
    "\n",
    "# splitter = CharacterTextSplitter(separator = \"\\n\", chunk_size = 200, chunk_overlap = 0)\n",
    "# chunks = splitter.split_text(data[0].page_content)"
   ]
  },
  {
   "cell_type": "code",
   "execution_count": 13,
   "id": "dec31c55-9732-44a5-981d-e3ab95a5c1f5",
   "metadata": {},
   "outputs": [],
   "source": [
    "# from langchain.text_splitter import RecursiveCharacterTextSplitter\n",
    "\n",
    "# r_splitter = RecursiveCharacterTextSplitter(separators = [\"\\n\\n\",\"\\n\",\" \"], chunk_size = 200, chunk_overlap = 0)\n",
    "\n",
    "# docs = chunks = r_splitter.split_text(data[0].page_content)\n",
    "# len(docs)\n"
   ]
  },
  {
   "cell_type": "code",
   "execution_count": 14,
   "id": "0d0b2e1f-f1e7-48a7-b5ad-c430bbd6627d",
   "metadata": {},
   "outputs": [],
   "source": [
    "# for chunk in chunks:\n",
    "#     print(str(len(chunk)))\n"
   ]
  },
  {
   "cell_type": "code",
   "execution_count": 25,
   "id": "dc468d5c-0f2a-4fd1-8ebe-d2cdc0888f85",
   "metadata": {},
   "outputs": [],
   "source": [
    "from langchain.text_splitter import RecursiveCharacterTextSplitter\n",
    "text_splitter = RecursiveCharacterTextSplitter(\n",
    "    chunk_size=1000,\n",
    "    chunk_overlap=200\n",
    ")\n",
    "\n",
    "# As data is of type documents we can directly use split_documents over split_text in order to get the chunks.\n",
    "# docs = text_splitter.split_documents(url_data)\n",
    "docs = text_splitter.split_documents(resume_data)"
   ]
  },
  {
   "cell_type": "code",
   "execution_count": 26,
   "id": "aef76877-562f-48a4-8df9-152a9205fc16",
   "metadata": {},
   "outputs": [
    {
     "data": {
      "text/plain": [
       "3"
      ]
     },
     "execution_count": 26,
     "metadata": {},
     "output_type": "execute_result"
    }
   ],
   "source": [
    "len(docs)"
   ]
  },
  {
   "cell_type": "code",
   "execution_count": 27,
   "id": "e51f37e2-2867-4e9c-907e-07289c57c77f",
   "metadata": {},
   "outputs": [
    {
     "data": {
      "text/plain": [
       "Document(metadata={'source': '2024_Siddhesh_7447664132.pdf', 'page': 0}, page_content='Siddhesh Sonawane ♂phone+917447664132\\nComputer Engineering Student /envel⌢pesiddheshsonawane07@gmail.com\\nDr. D.Y. Patil Institute of Technology /githubsiddheshsonawane07\\nPune, Maharashtra /userPortfolio\\nEducation\\n•Bachelor of Computer Engineering 2020-2024\\nDr. D.Y. Patil Institute of Technology, Pimpri CGPA: 8.76\\nExperience\\n•Software Development Intern Remote\\nUnicohub Private Limited Oct 2022 - Feb 2023\\n•Software Development Intern Remote\\nRudraksha Welfare Foundation Feb 2022 - May 2022\\nProjects\\n•Proctorise\\nReact.js, Tensorflow.js, Firebase\\n–Developed an online proctoring system utilizing TensorFlow to maintain test integrity.\\n–Implemented algorithm for multiple people detection to ensure only authorized test-takers are present.\\n–Integrated attentiveness monitoring withTensorFlow Movenet to track user eye movements.\\n–Employed facial verification using facial recognition technology to prevent impersonation attempts.\\n•Store API\\nReact.js, Node.js, Express.js, MongoDB Atlas')"
      ]
     },
     "execution_count": 27,
     "metadata": {},
     "output_type": "execute_result"
    }
   ],
   "source": [
    "docs[0]"
   ]
  },
  {
   "cell_type": "markdown",
   "id": "140c626e-dcf0-46e8-92ca-49c563d40d2c",
   "metadata": {},
   "source": [
    "<h1>embedding the data collected from url into vector data</h1>"
   ]
  },
  {
   "cell_type": "code",
   "execution_count": 28,
   "id": "ff999711-1906-4f2a-a1f0-2c376622569d",
   "metadata": {},
   "outputs": [],
   "source": [
    "from langchain_mistralai import ChatMistralAI\n",
    "\n",
    "model = ChatMistralAI(model=\"mistral-large-latest\")"
   ]
  },
  {
   "cell_type": "code",
   "execution_count": 30,
   "id": "604caff7-28e4-48ac-b997-9dbb7173886e",
   "metadata": {},
   "outputs": [],
   "source": [
    "from langchain.vectorstores import FAISS\n",
    "from langchain_mistralai.embeddings import MistralAIEmbeddings\n",
    "\n",
    "embeddings = MistralAIEmbeddings(model=\"mistral-embed\")\n",
    "\n",
    "# creating vector store\n",
    "vectorindex_mistral = FAISS.from_documents(docs, embeddings)\n"
   ]
  },
  {
   "cell_type": "code",
   "execution_count": 31,
   "id": "1296cec0-9012-40d9-8971-db1895bc0653",
   "metadata": {},
   "outputs": [],
   "source": [
    "retriever = vectorindex_mistral.as_retriever()"
   ]
  },
  {
   "cell_type": "markdown",
   "id": "e0749e74-f30c-4a06-9f5f-cab150c0234b",
   "metadata": {},
   "source": [
    "<h1>actual code for basic chatbot on given context</h1>"
   ]
  },
  {
   "cell_type": "code",
   "execution_count": 32,
   "id": "539c0b6c-d06b-48ba-9482-585d0aa66755",
   "metadata": {},
   "outputs": [],
   "source": [
    "from langchain.chains.combine_documents import create_stuff_documents_chain\n",
    "from langchain_core.prompts import ChatPromptTemplate\n",
    "from langchain.chains import create_retrieval_chain\n",
    "\n",
    "prompt = ChatPromptTemplate.from_template(\"\"\"Answer the following question based only on the provided context:\n",
    "\n",
    "<context>\n",
    "{context}\n",
    "</context>\n",
    "\n",
    "Question: {input}\"\"\")\n",
    "\n",
    "# Create a retrieval chain to answer questions\n",
    "document_chain = create_stuff_documents_chain(model, prompt)\n",
    "retrieval_chain = create_retrieval_chain(retriever, document_chain)\n"
   ]
  },
  {
   "cell_type": "code",
   "execution_count": 33,
   "id": "cf273d78-e5bb-487b-8b63-16f688f73240",
   "metadata": {},
   "outputs": [
    {
     "name": "stdout",
     "output_type": "stream",
     "text": [
      "Based on the provided context, here's the basic information about the person:\n",
      "\n",
      "**Name:** Siddhesh Sonawane\n",
      "\n",
      "**Contact Information:**\n",
      "- Phone: +917447664132\n",
      "- Email: siddheshsonawane07@gmail.com\n",
      "\n",
      "**Education:**\n",
      "- Bachelor of Computer Engineering (2020-2024)\n",
      "- Institution: Dr. D.Y. Patil Institute of Technology, Pimpri\n",
      "- CGPA: 8.76\n",
      "\n",
      "**Location:** Pune, Maharashtra\n",
      "\n",
      "**Occupation:** Computer Engineering Student\n",
      "\n",
      "**Experience:**\n",
      "- Software Development Intern at Unicohub Private Limited (Remote, Oct 2022 - Feb 2023)\n",
      "- Software Development Intern at Rudraksha Welfare Foundation (Remote, Feb 2022 - May 2022)\n",
      "\n",
      "**Technical Skills:**\n",
      "- Programming Languages: Java, JavaScript, Python, Dart\n",
      "- Backend Skills: Node.js, Express.js, Firebase, MySQL, MongoDB\n",
      "- Frontend Skills: React, Flutter\n",
      "- Tools: Git, GitHub, GCP, Azure, Netlify\n"
     ]
    }
   ],
   "source": [
    "response = retrieval_chain.invoke({\"input\": \"give basic info about the person in the document\"})\n",
    "print(response[\"answer\"])"
   ]
  },
  {
   "cell_type": "code",
   "execution_count": 36,
   "id": "f2d5f315-3683-4161-a681-b0de300caa15",
   "metadata": {},
   "outputs": [
    {
     "name": "stdout",
     "output_type": "stream",
     "text": [
      "Based on the provided context, here's a simplified FANG (Facebook, Amazon, Netflix, Google) resume for Siddhesh Sonawane using LaTeX:\n",
      "\n",
      "```latex\n",
      "\\documentclass[a4paper,10pt]{article}\n",
      "\\usepackage{latexsym}\n",
      "\\usepackage{xcolor}\n",
      "\\usepackage{hyperref}\n",
      "\n",
      "\\begin{document}\n",
      "\n",
      "\\noindent\\textbf{\\Large Siddhesh Sonawane}\\\\\n",
      "\\noindent\\href{tel:+917447664132}{+91 7447664132} $\\vert$ \\href{mailto:siddheshsonawane07@gmail.com}{siddheshsonawane07@gmail.com} $\\vert$ \\href{https://github.com/siddheshsonawane07}{github.com/siddheshsonawane07} $\\vert$ \\href{https://userportfolio}{Portfolio}\\\\\n",
      "\\noindent Pune, Maharashtra\n",
      "\n",
      "\\noindent\\rule{\\textwidth}{0.4pt}\n",
      "\n",
      "\\noindent\\textbf{Education}\\\\\n",
      "\\noindent\\textbf{Dr. D.Y. Patil Institute of Technology, Pimpri}\\\\\n",
      "Bachelor of Computer Engineering, \\textit{CGPA: 8.76}, 2020-2024\n",
      "\n",
      "\\noindent\\rule{\\textwidth}{0.4pt}\n",
      "\n",
      "\\noindent\\textbf{Experience}\\\\\n",
      "\\noindent\\textbf{Software Development Intern} \\hfill \\textit{Remote}\\\\\n",
      "\\noindent Unicohub Private Limited \\hfill \\textit{Oct 2022 - Feb 2023}\\\\\n",
      "\\noindent Rudraksha Welfare Foundation \\hfill \\textit{Feb 2022 - May 2022}\n",
      "\n",
      "\\noindent\\rule{\\textwidth}{0.4pt}\n",
      "\n",
      "\\noindent\\textbf{Projects}\\\\\n",
      "\\noindent\\textbf{Proctorise} \\hfill \\textit{React.js, Tensorflow.js, Firebase}\\\\\n",
      "- Developed an online proctoring system utilizing TensorFlow for test integrity.\\\\\n",
      "- Implemented algorithms for people detection and attentiveness monitoring.\\\\\n",
      "- Employed facial verification to prevent impersonation.\\\\\n",
      "\n",
      "\\noindent\\textbf{Store API} \\hfill \\textit{React.js, Node.js, Express.js, MongoDB Atlas}\\\\\n",
      "- Developed a dynamic and responsive user interface using React.js.\\\\\n",
      "- Designed and implemented a robust REST API for an online store.\\\\\n",
      "- Integrated advanced query-based search functionalities.\\\\\n",
      "\n",
      "\\noindent\\textbf{Task Manager API} \\hfill \\textit{React.js, Node.js, Express.js, MongoDB Atlas}\\\\\n",
      "- Implemented REST API architecture to enable CRUD operations for managing tasks.\\\\\n",
      "- Developed a task manager API for a to-do list website.\\\\\n",
      "\n",
      "\\noindent\\textbf{Online Radio} \\hfill \\textit{Flutter, Alan AI}\\\\\n",
      "- Developed an Online Radio application for Android using Flutter.\\\\\n",
      "- Implemented voice-controlled functionalities for seamless navigation.\\\\\n",
      "\n",
      "\\noindent\\rule{\\textwidth}{0.4pt}\n",
      "\n",
      "\\noindent\\textbf{Technical Skills}\\\\\n",
      "\\noindent\\textbf{Programming Languages:} Java, JavaScript, Python, Dart\\\\\n",
      "\\noindent\\textbf{Backend Skills:} Node.js, Express.js, Firebase, MySQL, MongoDB\\\\\n",
      "\\noindent\\textbf{Frontend Skills:} React, Flutter\\\\\n",
      "\\noindent\\textbf{Tools:} Git, GitHub, GCP, Azure, Netlify\n",
      "\n",
      "\\noindent\\rule{\\textwidth}{0.4pt}\n",
      "\n",
      "\\noindent\\textbf{Achievements}\\\\\n",
      "- Flutter Co-Lead for GDSC DIT (Organized sessions on Flutter and Firebase)\\\\\n",
      "- Lead team qualifying for Nationals at Solving India Hackathon by GFG\\\\\n",
      "- Lead team qualifying for Round 3 at Smart India Hackathon (SIH) 2022\n",
      "\n",
      "\\end{document}\n",
      "```\n",
      "\n",
      "This LaTeX code creates a clean and structured resume highlighting Siddhesh Sonawane's education, experience, projects, technical skills, and achievements. The design is suitable for applying to FANG companies.\n"
     ]
    }
   ],
   "source": [
    "response = retrieval_chain.invoke({\"input\": \"use basic info about the user and generate FANG resume based latex  \"})\n",
    "print(response[\"answer\"])"
   ]
  },
  {
   "cell_type": "code",
   "execution_count": 39,
   "id": "eca1516e-7a83-4b68-b742-a520ebc8b4bd",
   "metadata": {},
   "outputs": [
    {
     "name": "stdout",
     "output_type": "stream",
     "text": [
      "```latex\n",
      "\\documentclass{article}\n",
      "\\begin{document}\n",
      "\n",
      "\\section*{Rushikesh Patil}\n",
      "\\section*{Contact Information}\n",
      "\\begin{itemize}\n",
      "    \\item \\textbf{Phone:} +917447664132\n",
      "    \\item \\textbf{Email:} siddheshsonawane07@gmail.com\n",
      "    \\item \\textbf{GitHub:} siddheshsonawane07\n",
      "    \\item \\textbf{User Portfolio:} (Not Provided)\n",
      "\\end{itemize}\n",
      "\n",
      "\\section*{Education}\n",
      "\\begin{itemize}\n",
      "    \\item \\textbf{Masters in Computer Science} \\\\\n",
      "          Dummy University, Dummy Location \\\\\n",
      "          2024 - 2026\n",
      "    \\item \\textbf{Bachelor of Computer Engineering} \\\\\n",
      "          Dr. D.Y. Patil Institute of Technology, Pimpri \\\\\n",
      "          2020 - 2024 \\\\\n",
      "          CGPA: 8.76\n",
      "    \\item \\textbf{High School Diploma} \\\\\n",
      "          Dummy High School, Dummy Location \\\\\n",
      "          2018 - 2020\n",
      "\\end{itemize}\n",
      "\n",
      "\\section*{Experience}\n",
      "\\begin{itemize}\n",
      "    \\item \\textbf{Software Development Intern (Remote)} \\\\\n",
      "          Unicohub Private Limited \\\\\n",
      "          Oct 2022 - Feb 2023\n",
      "    \\item \\textbf{Software Development Intern (Remote)} \\\\\n",
      "          Rudraksha Welfare Foundation \\\\\n",
      "          Feb 2022 - May 2022\n",
      "\\end{itemize}\n",
      "\n",
      "\\section*{Projects}\n",
      "\\begin{itemize}\n",
      "    \\item \\textbf{Proctorise} \\\\\n",
      "          React.js, Tensorflow.js, Firebase \\\\\n",
      "          –Developed an online proctoring system utilizing TensorFlow to maintain test integrity. \\\\\n",
      "          –Implemented algorithm for multiple people detection to ensure only authorized test-takers are present. \\\\\n",
      "          –Integrated attentiveness monitoring with TensorFlow Movenet to track user eye movements. \\\\\n",
      "          –Employed facial verification using facial recognition technology to prevent impersonation attempts.\n",
      "    \\item \\textbf{Store API} \\\\\n",
      "          React.js, Node.js, Express.js, MongoDB Atlas \\\\\n",
      "          –Integrated advanced query-based search functionalities within the Express.js application to optimize product retrieval and enhance user experience. \\\\\n",
      "          –Developed a dynamic and responsive user interface using React.js for improved user experience, ensuring seamless interaction and usability for customers browsing the store. \\\\\n",
      "          –Designed and implemented a robust REST API for an online store using Node.js, Express.js, MongoDB Atlas for efficient data storage and management.\n",
      "    \\item \\textbf{Task Manager API} \\\\\n",
      "          React.js, Node.js, Express.js, MongoDB Atlas \\\\\n",
      "          –Implemented REST API architecture to enable CRUD operations for managing tasks. \\\\\n",
      "          –Developed a task manager API for a to-do list website using Node.js, Express.js, and MongoDB Atlas. \\\\\n",
      "          –Integrated React.js for developing a responsive frontend interface.\n",
      "    \\item \\textbf{Online Radio} \\\\\n",
      "          Flutter, Alan AI \\\\\n",
      "          –Developed an Online Radio application for Android using Flutter. \\\\\n",
      "          –Implemented voice-controlled functionalities to enhance user interaction. \\\\\n",
      "          –Supported voice commands such as ”play,” ”stop,” ”next,” ”previous,” and more for seamless navigation.\n",
      "\\end{itemize}\n",
      "\n",
      "\\section*{Technical Skills}\n",
      "\\begin{itemize}\n",
      "    \\item \\textbf{Programming Languages:} Java, Javascript, Python, Dart\n",
      "    \\item \\textbf{Backend Skills:} Node.js, Express.js, Firebase, MySQL, MongoDB\n",
      "    \\item \\textbf{Frontend Skills:} React, Flutter\n",
      "    \\item \\textbf{Tools:} Git, Github, GCP, Azure, Netlify\n",
      "\\end{itemize}\n",
      "\n",
      "\\section*{Achievements}\n",
      "\\begin{itemize}\n",
      "    \\item \\textbf{Flutter Co-Lead for GDSC DIT} (Organized sessions on Flutter and Firebase)\n",
      "    \\item \\textbf{Solving India Hackathon by GFG} (Lead team that qualified for Nationals)\n",
      "    \\item \\textbf{Smart India Hackathon (SIH) 2022} (Lead team that qualified for Round 3)\n",
      "\\end{itemize}\n",
      "\n",
      "\\end{document}\n",
      "```\n"
     ]
    }
   ],
   "source": [
    "response = retrieval_chain.invoke({\"input\": \"replace only the name with Rushikesh Patil and add dummy school, college, aand masters in the latex\"})\n",
    "print(response[\"answer\"])"
   ]
  },
  {
   "cell_type": "code",
   "execution_count": 43,
   "id": "b6ca1cad-0ae2-43d6-b92e-0d9a3321e475",
   "metadata": {},
   "outputs": [],
   "source": [
    "response = retrieval_chain.invoke({\"input\": \"keep the latex structure same, just rename the change from siddhesh sonawane to rushikesh patil\"})\n"
   ]
  },
  {
   "cell_type": "code",
   "execution_count": 44,
   "id": "b2c0b7d4-03e1-4e1b-a0b2-b255af74d401",
   "metadata": {},
   "outputs": [
    {
     "name": "stdout",
     "output_type": "stream",
     "text": [
      "```latex\n",
      "\\documentclass{article}\n",
      "\\usepackage{hyperref}\n",
      "\n",
      "\\begin{document}\n",
      "\n",
      "\\section*{Rushikesh Patil}\n",
      "\\subsection*{Contact Information}\n",
      "\\begin{itemize}\n",
      "    \\item Phone: +917447664132\n",
      "    \\item Email: \\href{mailto:siddheshsonawane07@gmail.com}{siddheshsonawane07@gmail.com}\n",
      "    \\item GitHub: \\href{https://github.com/siddheshsonawane07}{siddheshsonawane07}\n",
      "    \\item Portfolio: \\href{https://userPortfolio}{userPortfolio}\n",
      "\\end{itemize}\n",
      "\n",
      "\\subsection*{Education}\n",
      "\\begin{itemize}\n",
      "    \\item \\textbf{Bachelor of Computer Engineering} (2020-2024)\n",
      "    \\begin{itemize}\n",
      "        \\item Dr. D.Y. Patil Institute of Technology, Pimpri\n",
      "        \\item CGPA: 8.76\n",
      "    \\end{itemize}\n",
      "\\end{itemize}\n",
      "\n",
      "\\subsection*{Experience}\n",
      "\\begin{itemize}\n",
      "    \\item \\textbf{Software Development Intern} (Remote)\n",
      "    \\begin{itemize}\n",
      "        \\item Unicohub Private Limited\n",
      "        \\item Oct 2022 - Feb 2023\n",
      "    \\end{itemize}\n",
      "    \\item \\textbf{Software Development Intern} (Remote)\n",
      "    \\begin{itemize}\n",
      "        \\item Rudraksha Welfare Foundation\n",
      "        \\item Feb 2022 - May 2022\n",
      "    \\end{itemize}\n",
      "\\end{itemize}\n",
      "\n",
      "\\subsection*{Projects}\n",
      "\\begin{itemize}\n",
      "    \\item \\textbf{Proctorise}\n",
      "    \\begin{itemize}\n",
      "        \\item Technologies: React.js, Tensorflow.js, Firebase\n",
      "        \\item Developed an online proctoring system utilizing TensorFlow to maintain test integrity.\n",
      "        \\item Implemented algorithm for multiple people detection to ensure only authorized test-takers are present.\n",
      "        \\item Integrated attentiveness monitoring with TensorFlow Movenet to track user eye movements.\n",
      "        \\item Employed facial verification using facial recognition technology to prevent impersonation attempts.\n",
      "    \\end{itemize}\n",
      "    \\item \\textbf{Store API}\n",
      "    \\begin{itemize}\n",
      "        \\item Technologies: React.js, Node.js, Express.js, MongoDB Atlas\n",
      "        \\item Integrated advanced query-based search functionalities within the Express.js application to optimize product retrieval and enhance user experience.\n",
      "        \\item Developed a dynamic and responsive user interface using React.js for improved user experience, ensuring seamless interaction and usability for customers browsing the store.\n",
      "        \\item Designed and implemented a robust REST API for an online store using Node.js, Express.js, MongoDB Atlas for efficient data storage and management.\n",
      "    \\end{itemize}\n",
      "    \\item \\textbf{Task Manager API}\n",
      "    \\begin{itemize}\n",
      "        \\item Technologies: React.js, Node.js, Express.js, MongoDB Atlas\n",
      "        \\item Implemented REST API architecture to enable CRUD operations for managing tasks.\n",
      "        \\item Developed a task manager API for a to-do list website using Node.js, Express.js, and MongoDB Atlas.\n",
      "        \\item Integrated React.js for developing a responsive frontend interface.\n",
      "    \\end{itemize}\n",
      "    \\item \\textbf{Online Radio}\n",
      "    \\begin{itemize}\n",
      "        \\item Technologies: Flutter, Alan AI\n",
      "        \\item Developed an Online Radio application for Android using Flutter.\n",
      "        \\item Implemented voice-controlled functionalities to enhance user interaction.\n",
      "        \\item Supported voice commands such as ”play,” ”stop,” ”next,” ”previous,” and more for seamless navigation.\n",
      "    \\end{itemize}\n",
      "\\end{itemize}\n",
      "\n",
      "\\subsection*{Technical Skills}\n",
      "\\begin{itemize}\n",
      "    \\item \\textbf{Programming Languages:} Java, JavaScript, Python, Dart\n",
      "    \\item \\textbf{Backend Skills:} Node.js, Express.js, Firebase, MySQL, MongoDB\n",
      "    \\item \\textbf{Frontend Skills:} React, Flutter\n",
      "    \\item \\textbf{Tools:} Git, GitHub, GCP, Azure, Netlify\n",
      "\\end{itemize}\n",
      "\n",
      "\\subsection*{Achievements}\n",
      "\\begin{itemize}\n",
      "    \\item \\textbf{Flutter Co-Lead} for GDSC DIT (Organized sessions on Flutter and Firebase)\n",
      "    \\item \\textbf{Solving India Hackathon} by GFG (Lead team that qualified for Nationals)\n",
      "    \\item \\textbf{Smart India Hackathon (SIH) 2022} (Lead team that qualified for Round 3)\n",
      "\\end{itemize}\n",
      "\n",
      "\\end{document}\n",
      "```\n"
     ]
    }
   ],
   "source": [
    "print(response[\"answer\"])"
   ]
  },
  {
   "cell_type": "code",
   "execution_count": null,
   "id": "10bdfe13-713b-4ae4-8e38-ba6c16e449a3",
   "metadata": {},
   "outputs": [],
   "source": []
  },
  {
   "cell_type": "code",
   "execution_count": null,
   "id": "c9b7c6bd-9faa-4935-a05d-52d8f3d0d9af",
   "metadata": {},
   "outputs": [],
   "source": []
  },
  {
   "cell_type": "code",
   "execution_count": null,
   "id": "fb168233-8dfc-477d-88fc-9c1c904ed5af",
   "metadata": {},
   "outputs": [],
   "source": []
  },
  {
   "cell_type": "code",
   "execution_count": null,
   "id": "fa2cbca9-28ef-4850-af2f-5fbdee013e26",
   "metadata": {},
   "outputs": [],
   "source": []
  },
  {
   "cell_type": "code",
   "execution_count": null,
   "id": "1db3ef96-a151-4615-b7a4-75c5ea8715f4",
   "metadata": {},
   "outputs": [],
   "source": []
  },
  {
   "cell_type": "code",
   "execution_count": null,
   "id": "9c88a627-5fde-48e4-96f1-90a1308c771b",
   "metadata": {},
   "outputs": [],
   "source": []
  },
  {
   "cell_type": "code",
   "execution_count": null,
   "id": "07596057-33f2-450c-84da-676c937643ab",
   "metadata": {},
   "outputs": [],
   "source": []
  },
  {
   "cell_type": "code",
   "execution_count": null,
   "id": "f3d92ac2-297f-49c4-844a-c578cf7378c4",
   "metadata": {},
   "outputs": [],
   "source": []
  },
  {
   "cell_type": "code",
   "execution_count": null,
   "id": "8f0d505f-d995-4245-afc0-fdd301b14ea8",
   "metadata": {},
   "outputs": [],
   "source": []
  },
  {
   "cell_type": "code",
   "execution_count": null,
   "id": "dda10302-5a49-4d7f-935b-499ae3d78a49",
   "metadata": {},
   "outputs": [],
   "source": []
  },
  {
   "cell_type": "code",
   "execution_count": null,
   "id": "269d3cd2-7073-42cf-8602-aa6de3778160",
   "metadata": {},
   "outputs": [],
   "source": []
  },
  {
   "cell_type": "code",
   "execution_count": null,
   "id": "47534eb7-9203-41a5-ad17-76b5b7945f04",
   "metadata": {},
   "outputs": [],
   "source": []
  },
  {
   "cell_type": "code",
   "execution_count": null,
   "id": "ca991f46-a1e1-424d-bd3f-a1e41dda706f",
   "metadata": {},
   "outputs": [],
   "source": []
  },
  {
   "cell_type": "code",
   "execution_count": null,
   "id": "8443cbd2-7d94-4b96-8362-f48a3db201ca",
   "metadata": {},
   "outputs": [],
   "source": []
  },
  {
   "cell_type": "code",
   "execution_count": null,
   "id": "6fe1b166-65f8-418c-9c57-9adcd0648be1",
   "metadata": {},
   "outputs": [],
   "source": []
  },
  {
   "cell_type": "code",
   "execution_count": null,
   "id": "e84f4e9d-3fba-4196-92f7-502d2b51b4ba",
   "metadata": {},
   "outputs": [],
   "source": []
  },
  {
   "cell_type": "code",
   "execution_count": null,
   "id": "cc7baf4b-31a3-475b-84e8-8dc19015a947",
   "metadata": {},
   "outputs": [],
   "source": []
  },
  {
   "cell_type": "code",
   "execution_count": null,
   "id": "0f9e3cb0-35ee-44a7-8f3b-eb194625a7d5",
   "metadata": {},
   "outputs": [],
   "source": []
  },
  {
   "cell_type": "code",
   "execution_count": null,
   "id": "6508b283-1de4-4750-ab0c-7811ccc14ccc",
   "metadata": {},
   "outputs": [],
   "source": []
  },
  {
   "cell_type": "code",
   "execution_count": null,
   "id": "7d6f7495-44ee-4636-bacb-d93791a0a0c7",
   "metadata": {},
   "outputs": [],
   "source": []
  },
  {
   "cell_type": "code",
   "execution_count": null,
   "id": "147b6990-e0df-4bdf-acc7-031550ce5450",
   "metadata": {},
   "outputs": [],
   "source": []
  },
  {
   "cell_type": "code",
   "execution_count": null,
   "id": "a36be803-f4ff-4dfd-ab04-b8ae9b4b6f5d",
   "metadata": {},
   "outputs": [],
   "source": []
  },
  {
   "cell_type": "code",
   "execution_count": null,
   "id": "36104750-134d-4374-8a6a-4b25ce7883a6",
   "metadata": {},
   "outputs": [],
   "source": []
  },
  {
   "cell_type": "code",
   "execution_count": null,
   "id": "b1971f58-b022-4734-aa71-3a6dc209e20f",
   "metadata": {},
   "outputs": [],
   "source": []
  },
  {
   "cell_type": "code",
   "execution_count": null,
   "id": "81baafd0-62c6-4715-8fda-f081ec8a5002",
   "metadata": {},
   "outputs": [],
   "source": []
  },
  {
   "cell_type": "code",
   "execution_count": null,
   "id": "890fc012-cd50-45e8-acf5-e6328f73847b",
   "metadata": {},
   "outputs": [],
   "source": []
  },
  {
   "cell_type": "code",
   "execution_count": null,
   "id": "1d72de25-63a4-4108-a96c-22cf5633d901",
   "metadata": {},
   "outputs": [],
   "source": []
  }
 ],
 "metadata": {
  "kernelspec": {
   "display_name": "Python 3 (ipykernel)",
   "language": "python",
   "name": "python3"
  },
  "language_info": {
   "codemirror_mode": {
    "name": "ipython",
    "version": 3
   },
   "file_extension": ".py",
   "mimetype": "text/x-python",
   "name": "python",
   "nbconvert_exporter": "python",
   "pygments_lexer": "ipython3",
   "version": "3.12.6"
  }
 },
 "nbformat": 4,
 "nbformat_minor": 5
}
