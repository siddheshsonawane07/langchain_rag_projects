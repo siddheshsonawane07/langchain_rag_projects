{
 "cells": [
  {
   "cell_type": "markdown",
   "id": "02afdcb2-a27e-4a23-a946-b012bb293790",
   "metadata": {},
   "source": [
    "<h1>different loaders for loading data</h1>"
   ]
  },
  {
   "cell_type": "code",
   "execution_count": 1,
   "id": "9646e0d1-887f-4f2a-a48a-6a64c039e879",
   "metadata": {},
   "outputs": [
    {
     "data": {
      "text/plain": [
       "True"
      ]
     },
     "execution_count": 1,
     "metadata": {},
     "output_type": "execute_result"
    }
   ],
   "source": [
    "from langchain.document_loaders import TextLoader\n",
    "from dotenv import load_dotenv\n",
    "load_dotenv()\n"
   ]
  },
  {
   "cell_type": "code",
   "execution_count": 2,
   "id": "fe0389d8-32c3-4dac-9e71-d239e3945def",
   "metadata": {},
   "outputs": [],
   "source": [
    "text_loader = TextLoader(\"conversational_RAG_theory.txt\");\n",
    "\n",
    "data = text_loader.load()"
   ]
  },
  {
   "cell_type": "code",
   "execution_count": 3,
   "id": "cf94612a-9d88-48b7-a54a-493f311063d6",
   "metadata": {},
   "outputs": [],
   "source": [
    "# print(data[0].metadata)\n",
    "# print(data[0])"
   ]
  },
  {
   "cell_type": "code",
   "execution_count": 4,
   "id": "6d840277-62ec-4ab7-a21b-e9fc8afc5a37",
   "metadata": {},
   "outputs": [],
   "source": [
    "from langchain_community.document_loaders import PyPDFLoader\n"
   ]
  },
  {
   "cell_type": "code",
   "execution_count": 5,
   "id": "d038e7a2-66e5-4c1f-a3e2-3662ef1f02d2",
   "metadata": {},
   "outputs": [],
   "source": [
    "loader = PyPDFLoader(\"2024_Siddhesh_Sonawane_pod.pdf\")\n",
    "pages = []\n",
    "async for page in loader.alazy_load():\n",
    "    pages.append(page)"
   ]
  },
  {
   "cell_type": "code",
   "execution_count": 6,
   "id": "1c5693fe-dc77-4037-9496-2643e6e58333",
   "metadata": {},
   "outputs": [],
   "source": [
    "# print(pages[0])\n",
    "# print(pages[1])\n",
    "# print(f\"{pages[0].metadata}\\n\")\n",
    "# print(pages[0].page_content)"
   ]
  },
  {
   "cell_type": "code",
   "execution_count": 7,
   "id": "40d9cf8a-6552-4671-bd28-7f743195a3c0",
   "metadata": {},
   "outputs": [],
   "source": [
    "from langchain_community.document_loaders import UnstructuredURLLoader\n"
   ]
  },
  {
   "cell_type": "code",
   "execution_count": 8,
   "id": "ec7285af-45c3-42ce-a2ac-cf1028a0dff7",
   "metadata": {},
   "outputs": [
    {
     "data": {
      "text/plain": [
       "2"
      ]
     },
     "execution_count": 8,
     "metadata": {},
     "output_type": "execute_result"
    }
   ],
   "source": [
    "urls = [\n",
    "    \"https://www.moneycontrol.com/news/telecom/vodafone-idea-bets-big-on-gaming-content-to-widen-4g-subscriber-base-12832202.html\",\n",
    "    \"https://www.moneycontrol.com/news/business/moneycontrol-research/craftsman-automation-significant-headroom-to-grow-valuation-at-fair-level-12832073.html\",\n",
    "]\n",
    "loader = UnstructuredURLLoader(urls=urls)\n",
    "\n",
    "data = loader.load()\n",
    "\n",
    "len(data)"
   ]
  },
  {
   "cell_type": "code",
   "execution_count": 9,
   "id": "54054b9c-b7ba-481a-b446-cd8bb5cde533",
   "metadata": {},
   "outputs": [
    {
     "data": {
      "text/plain": [
       "{'source': 'https://www.moneycontrol.com/news/telecom/vodafone-idea-bets-big-on-gaming-content-to-widen-4g-subscriber-base-12832202.html'}"
      ]
     },
     "execution_count": 9,
     "metadata": {},
     "output_type": "execute_result"
    }
   ],
   "source": [
    "data[0].metadata"
   ]
  },
  {
   "cell_type": "code",
   "execution_count": 10,
   "id": "e49c5591-c76b-4fc1-b4e8-d2f372cb40c5",
   "metadata": {},
   "outputs": [
    {
     "data": {
      "text/plain": [
       "{'source': 'https://www.moneycontrol.com/news/business/moneycontrol-research/craftsman-automation-significant-headroom-to-grow-valuation-at-fair-level-12832073.html'}"
      ]
     },
     "execution_count": 10,
     "metadata": {},
     "output_type": "execute_result"
    }
   ],
   "source": [
    "data[1].metadata"
   ]
  },
  {
   "cell_type": "markdown",
   "id": "21532744-14a6-4b54-9f84-a0602aeb4813",
   "metadata": {},
   "source": [
    "<h1>using different techniques for text splitter</h1>"
   ]
  },
  {
   "cell_type": "code",
   "execution_count": 11,
   "id": "7a052f15-4a1f-4f10-9c27-3c1e2d3d08a0",
   "metadata": {},
   "outputs": [],
   "source": [
    "# from langchain.text_splitter import CharacterTextSplitter\n",
    "\n",
    "# splitter = CharacterTextSplitter(separator = \"\\n\", chunk_size = 200, chunk_overlap = 0)\n",
    "# chunks = splitter.split_text(data[0].page_content)"
   ]
  },
  {
   "cell_type": "code",
   "execution_count": 12,
   "id": "dec31c55-9732-44a5-981d-e3ab95a5c1f5",
   "metadata": {},
   "outputs": [],
   "source": [
    "# from langchain.text_splitter import RecursiveCharacterTextSplitter\n",
    "\n",
    "# r_splitter = RecursiveCharacterTextSplitter(separators = [\"\\n\\n\",\"\\n\",\" \"], chunk_size = 200, chunk_overlap = 0)\n",
    "\n",
    "# docs = chunks = r_splitter.split_text(data[0].page_content)\n",
    "# len(docs)\n"
   ]
  },
  {
   "cell_type": "code",
   "execution_count": 13,
   "id": "0d0b2e1f-f1e7-48a7-b5ad-c430bbd6627d",
   "metadata": {},
   "outputs": [],
   "source": [
    "# for chunk in chunks:\n",
    "#     print(str(len(chunk)))\n"
   ]
  },
  {
   "cell_type": "code",
   "execution_count": 14,
   "id": "dc468d5c-0f2a-4fd1-8ebe-d2cdc0888f85",
   "metadata": {},
   "outputs": [],
   "source": [
    "from langchain.text_splitter import RecursiveCharacterTextSplitter\n",
    "text_splitter = RecursiveCharacterTextSplitter(\n",
    "    chunk_size=1000,\n",
    "    chunk_overlap=200\n",
    ")\n",
    "\n",
    "# As data is of type documents we can directly use split_documents over split_text in order to get the chunks.\n",
    "docs = text_splitter.split_documents(data)"
   ]
  },
  {
   "cell_type": "code",
   "execution_count": 15,
   "id": "aef76877-562f-48a4-8df9-152a9205fc16",
   "metadata": {},
   "outputs": [
    {
     "data": {
      "text/plain": [
       "15"
      ]
     },
     "execution_count": 15,
     "metadata": {},
     "output_type": "execute_result"
    }
   ],
   "source": [
    "len(docs)"
   ]
  },
  {
   "cell_type": "code",
   "execution_count": 16,
   "id": "e51f37e2-2867-4e9c-907e-07289c57c77f",
   "metadata": {},
   "outputs": [
    {
     "data": {
      "text/plain": [
       "Document(metadata={'source': 'https://www.moneycontrol.com/news/telecom/vodafone-idea-bets-big-on-gaming-content-to-widen-4g-subscriber-base-12832202.html'}, page_content='English\\n\\nHindi\\n\\nGujarati\\n\\nSpecials\\n\\nHello, Login\\n\\nHello, Login\\n\\nLog-inor Sign-Up\\n\\nMy Account\\n\\nMy Profile\\n\\nMy Portfolio\\n\\nMy Watchlist\\n\\nFREE Credit Score₹100 Cash Reward\\n\\nFixed Deposits\\n\\nMy Alerts\\n\\nMy Messages\\n\\nPrice Alerts\\n\\nMy Profile\\n\\nMy PRO\\n\\nMy Portfolio\\n\\nMy Watchlist\\n\\nFREE Credit Score₹100 Cash Reward\\n\\nFixed Deposits\\n\\nMy Alerts\\n\\nMy Messages\\n\\nPrice Alerts\\n\\nLogout\\n\\nChat with Us\\n\\nDownload App\\n\\nFollow us on:\\n\\nGo Ad-Free\\n\\nMy Alerts\\n\\n>->MC_ENG_DESKTOP/MC_ENG_NEWS/MC_ENG_NEWS_AS/MC_ENG_ROS_NWS_AS_ATF_728\\n\\nGo PRO @₹99 PRO\\n\\nAdvertisement\\n\\nRemove Ad\\n\\nBusiness\\n\\nMarkets\\n\\nStocks\\n\\nEconomy\\n\\nCompanies\\n\\nTrends\\n\\nIPO\\n\\nOpinion\\n\\nEV Special\\n\\nHomeNewstelecomVodafone Idea bets big on gaming, content to widen 4G subscriber base\\n\\nVodafone Idea bets big on gaming, content to widen 4G subscriber base\\n\\nThe telco expects these initiatives to boost data capacity by 15 percent, attract new 4G customers, and increase ARPU, chief marketing officer Avneesh Khosla has said\\n\\nDanish Khan\\n\\nSeptember 30, 2024 / 11:50 IST')"
      ]
     },
     "execution_count": 16,
     "metadata": {},
     "output_type": "execute_result"
    }
   ],
   "source": [
    "docs[0]"
   ]
  },
  {
   "cell_type": "markdown",
   "id": "140c626e-dcf0-46e8-92ca-49c563d40d2c",
   "metadata": {},
   "source": [
    "<h1>embedding the data collected from url into vector data</h1>"
   ]
  },
  {
   "cell_type": "code",
   "execution_count": 17,
   "id": "ff999711-1906-4f2a-a1f0-2c376622569d",
   "metadata": {},
   "outputs": [],
   "source": [
    "from langchain_mistralai import ChatMistralAI\n",
    "\n",
    "model = ChatMistralAI(model=\"mistral-large-latest\")"
   ]
  },
  {
   "cell_type": "code",
   "execution_count": 20,
   "id": "604caff7-28e4-48ac-b997-9dbb7173886e",
   "metadata": {},
   "outputs": [],
   "source": [
    "from langchain.vectorstores import FAISS\n",
    "from langchain_mistralai.embeddings import MistralAIEmbeddings\n",
    "\n",
    "embeddings = MistralAIEmbeddings(model=\"mistral-embed\")\n",
    "\n",
    "# creating vector store\n",
    "vectorindex_mistral = FAISS.from_documents(docs, embeddings)\n"
   ]
  },
  {
   "cell_type": "code",
   "execution_count": 22,
   "id": "1296cec0-9012-40d9-8971-db1895bc0653",
   "metadata": {},
   "outputs": [],
   "source": [
    "retriever = vectorindex_mistral.as_retriever()"
   ]
  },
  {
   "cell_type": "code",
   "execution_count": 26,
   "id": "539c0b6c-d06b-48ba-9482-585d0aa66755",
   "metadata": {},
   "outputs": [],
   "source": [
    "from langchain.chains.combine_documents import create_stuff_documents_chain\n",
    "from langchain_core.prompts import ChatPromptTemplate\n",
    "from langchain.chains import create_retrieval_chain\n",
    "\n",
    "prompt = ChatPromptTemplate.from_template(\"\"\"Answer the following question based only on the provided context:\n",
    "\n",
    "<context>\n",
    "{context}\n",
    "</context>\n",
    "\n",
    "Question: {input}\"\"\")\n",
    "\n",
    "# Create a retrieval chain to answer questions\n",
    "document_chain = create_stuff_documents_chain(model, prompt)\n",
    "retrieval_chain = create_retrieval_chain(retriever, document_chain)\n"
   ]
  },
  {
   "cell_type": "code",
   "execution_count": 28,
   "id": "cf273d78-e5bb-487b-8b63-16f688f73240",
   "metadata": {},
   "outputs": [
    {
     "name": "stdout",
     "output_type": "stream",
     "text": [
      "Based on the provided context, here are explanations of the articles mentioned:\n",
      "\n",
      "1. **Trending news articles:**\n",
      "   - **\"Microsoft CEO Satya Nadella: AI can help you be more productive at work\"** - This article likely discusses Satya Nadella's views on how artificial intelligence can enhance productivity in the workplace.\n",
      "   - **\"Half of HR team fired after employee exposes glitch rejecting job applications instantly. Viral post\"** - This article probably covers a viral incident where an employee revealed a glitch in the HR system that led to the dismissal of half the HR team.\n",
      "   - **\"Only 33% of American millionaires think they are rich, finds study\"** - This article presents findings from a study about American millionaires' perceptions of their wealth.\n",
      "   - **\"Bengaluru AI startup co-founder's 18-hour workdays spark debate: 'His bed is 3-feet from computer'\"** - This article discusses the debate surrounding the intense work schedule of a Bengaluru AI startup co-founder.\n",
      "   - **\"Furious IndiGo passengers yell at ground staff, CISF personnel over 5-hour delay. Video\"** - This article covers a video showing IndiGo passengers' angry reaction to a significant flight delay.\n",
      "\n",
      "2. **Article about Vodafone Idea:**\n",
      "   - The article discusses Vodafone Idea's initiatives to boost data capacity, attract new customers, and increase revenue. It also mentions the company's financial challenges and its efforts to raise money. Additionally, it highlights Vodafone Idea's venture into the gaming industry with its Vi Games platform and the launch of Cloud Play, a subscription-based, ad-free cloud gaming service. The article explores the growing trend of the \"pay-to-play\" model in the gaming industry and the monetization opportunities it presents.\n",
      "\n",
      "These explanations are based solely on the information given in the provided context.\n"
     ]
    }
   ],
   "source": [
    "response = retrieval_chain.invoke({\"input\": \"explain articles\"})\n",
    "print(response[\"answer\"])"
   ]
  },
  {
   "cell_type": "code",
   "execution_count": 29,
   "id": "f2d5f315-3683-4161-a681-b0de300caa15",
   "metadata": {},
   "outputs": [
    {
     "name": "stdout",
     "output_type": "stream",
     "text": [
      "Nazra Tech is a company that has completed a Rs 150 crore investment in PokerBaazi parent Moonshine Technology.\n"
     ]
    }
   ],
   "source": [
    "response = retrieval_chain.invoke({\"input\": \"what is nazra tech\"})\n",
    "print(response[\"answer\"])"
   ]
  },
  {
   "cell_type": "code",
   "execution_count": null,
   "id": "eca1516e-7a83-4b68-b742-a520ebc8b4bd",
   "metadata": {},
   "outputs": [],
   "source": []
  }
 ],
 "metadata": {
  "kernelspec": {
   "display_name": "Python 3 (ipykernel)",
   "language": "python",
   "name": "python3"
  },
  "language_info": {
   "codemirror_mode": {
    "name": "ipython",
    "version": 3
   },
   "file_extension": ".py",
   "mimetype": "text/x-python",
   "name": "python",
   "nbconvert_exporter": "python",
   "pygments_lexer": "ipython3",
   "version": "3.12.6"
  }
 },
 "nbformat": 4,
 "nbformat_minor": 5
}
